{
  "nbformat": 4,
  "nbformat_minor": 0,
  "metadata": {
    "colab": {
      "name": "Resume Summarizing and Matching.ipynb",
      "provenance": [],
      "collapsed_sections": []
    },
    "kernelspec": {
      "name": "python3",
      "display_name": "Python 3"
    },
    "language_info": {
      "name": "python"
    }
  },
  "cells": [
    {
      "cell_type": "code",
      "metadata": {
        "colab": {
          "base_uri": "https://localhost:8080/"
        },
        "id": "1_SAfyoV5wOZ",
        "outputId": "8ec8065b-9d48-4b14-8888-e4106f805db6"
      },
      "source": [
        "pip install docx2txt"
      ],
      "execution_count": 13,
      "outputs": [
        {
          "output_type": "stream",
          "name": "stdout",
          "text": [
            "Collecting docx2txt\n",
            "  Downloading docx2txt-0.8.tar.gz (2.8 kB)\n",
            "Building wheels for collected packages: docx2txt\n",
            "  Building wheel for docx2txt (setup.py) ... \u001b[?25l\u001b[?25hdone\n",
            "  Created wheel for docx2txt: filename=docx2txt-0.8-py3-none-any.whl size=3980 sha256=a2fd6e5a14a7d2a80647bd25b00d99525504cabcd54806de4e33235d4cb1a38e\n",
            "  Stored in directory: /root/.cache/pip/wheels/b7/20/b2/473e3aea9a0c0d3e7b2f7bd81d06d0794fec12752733d1f3a8\n",
            "Successfully built docx2txt\n",
            "Installing collected packages: docx2txt\n",
            "Successfully installed docx2txt-0.8\n"
          ]
        }
      ]
    },
    {
      "cell_type": "code",
      "metadata": {
        "id": "e00_6Vrm5wI5"
      },
      "source": [
        "# Import summarize from gensim\n",
        "from gensim.summarization.summarizer import summarize\n",
        "from gensim.summarization import keywords# Import the library\n",
        "# to convert MSword doc to txt for processing.\n",
        "import docx2txt"
      ],
      "execution_count": 14,
      "outputs": []
    },
    {
      "cell_type": "code",
      "metadata": {
        "colab": {
          "base_uri": "https://localhost:8080/",
          "height": 120
        },
        "id": "1S-6kee_5xJz",
        "outputId": "33d62282-338b-4d04-ab4a-194cd5e27180"
      },
      "source": [
        "# Store the resume in a variable\n",
        "resume = docx2txt.process(\"/content/drive/MyDrive/Resume Final 1.docx\")\n",
        "text_resume = str(resume) #Summarize the text with ratio 0.2 (20% of the total words.)\n",
        "summarize(text_resume, ratio=0.2)"
      ],
      "execution_count": 29,
      "outputs": [
        {
          "output_type": "execute_result",
          "data": {
            "application/vnd.google.colaboratory.intrinsic+json": {
              "type": "string"
            },
            "text/plain": [
              "'Completed data science virtual internship -Data@ANZ Program\\nCompleted virtual internship – JPMorgan Chase & Co.: Software Engineering Virtual Experience\\nCompleted Data Analytics Virtual Internship Program at Quantium\\nCompleted Data Science and Business Analytics Internship at The Sparks Foundation\\nCompleted Data Analytics Coding Internship at Suven Consultants & Technology Pvt. Ltd.\\nA member of the senior team at CodeCell committee at Rajiv Gandhi Institute of Technology\\nCurrently working on Speech Recognition and Sentiment Analysis Project\\nThis project helped me build my coding skills and logic implementation and made me realize my passion for programming.\\nProject Name – Kaggle House Price Prediction\\nThis project is implemented using python, data science, and machine learning techniques.\\nhttps://medium.com/geekculture/exploratory-data-analysis-on-meteorological-data-using-python-e56dbeb67e23\\nhttps://patil-aarohi2000.medium.com/recognizing-handwritten-digits-with-scikit-learn-c9e630733426'"
            ]
          },
          "metadata": {},
          "execution_count": 29
        }
      ]
    },
    {
      "cell_type": "code",
      "metadata": {
        "colab": {
          "base_uri": "https://localhost:8080/"
        },
        "id": "ti0pZxoe6OGS",
        "outputId": "0735be36-811c-44ef-b6a7-eaaa7f61b0a5"
      },
      "source": [
        "text = input(\"Enter Job description : \") # Prompt for the Job description."
      ],
      "execution_count": 37,
      "outputs": [
        {
          "name": "stdout",
          "output_type": "stream",
          "text": [
            "Enter Job description : Experience in coding with Python, JavaScript, HTML, CSS, or any other language Theoretical Knowledge of ML/DL concepts Implemented a minimum 3 basic projects uploaded on Github  Strong verbal and written communication skills Ability to understand, structure, and present technical content in a simple manner to help aid learning Develop learning material (articles, quizzes, assessments) that enables learning through a digital platform Write engaging, rich, and exciting content for a variety of learner experiences and motivation levels. Review existing content and modify, repackage, and present content appropriately and effectively understand different technical domains and translate them into a compact, well-structured learning material Maintain tracking and prioritizing content development by analyzing trends and demand in the learning industry and learner feedback Coordinate with internal team members, graphic designers, reviewers, video editors, and other SMEs as required Perform quality checks and ensure first time correct delivery of content Being able to write compelling copy, instructional text, and audio/video scripts for learning topics Visualize instructional graphics, slide decks, and other instructional material to improve learning outcomes Ensure that the content that is created and curated is free of copyrighted material. Auditing previously made content as required checking for copyrighted material. Develop learning objectives, structure learning activities, creating visual aids for online interactions Responsible for devising modes of assessment, such as tests or quizzes, for measuring the effectiveness of learning\n"
          ]
        }
      ]
    },
    {
      "cell_type": "code",
      "metadata": {
        "colab": {
          "base_uri": "https://localhost:8080/"
        },
        "id": "UwZfdfct6e1y",
        "outputId": "0aad4dbd-5a71-47f9-ec06-1db20cf4d2f7"
      },
      "source": [
        "# Convert text to string format\n",
        "text = str(text)#Summarize the text with ratio 0.5 (50% of the total words.)\n",
        "print(summarize(text, ratio=0.5))"
      ],
      "execution_count": 38,
      "outputs": [
        {
          "output_type": "stream",
          "name": "stdout",
          "text": [
            "Experience in coding with Python, JavaScript, HTML, CSS, or any other language Theoretical Knowledge of ML/DL concepts Implemented a minimum 3 basic projects uploaded on Github  Strong verbal and written communication skills Ability to understand, structure, and present technical content in a simple manner to help aid learning Develop learning material (articles, quizzes, assessments) that enables learning through a digital platform Write engaging, rich, and exciting content for a variety of learner experiences and motivation levels.\n",
            "Develop learning objectives, structure learning activities, creating visual aids for online interactions Responsible for devising modes of assessment, such as tests or quizzes, for measuring the effectiveness of learning\n"
          ]
        }
      ]
    },
    {
      "cell_type": "code",
      "metadata": {
        "id": "dpFFSN3l6vVF"
      },
      "source": [
        "# recycle the text variable from summarizing\n",
        "# creating A list of text\n",
        "text_list = [text_resume, text]\n",
        "from sklearn.feature_extraction.text import CountVectorizer\n",
        "cv = CountVectorizer()\n",
        "count_matrix = cv.fit_transform(text_list)"
      ],
      "execution_count": 39,
      "outputs": []
    },
    {
      "cell_type": "code",
      "metadata": {
        "colab": {
          "base_uri": "https://localhost:8080/"
        },
        "id": "CgsQpiVV62_d",
        "outputId": "4d6a96ba-a956-45a8-d35a-56ed7a85c972"
      },
      "source": [
        "from sklearn.metrics.pairwise import cosine_similarity\n",
        "# get the match percentage\n",
        "matchPercentage = cosine_similarity(count_matrix)[0][1] * 100\n",
        "matchPercentage = round(matchPercentage, 2) # round to two decimal\n",
        "print(\"Your resume matches about \"+ str(matchPercentage)+ \"% of the job description.\")\n",
        "# output\n",
        "print(keywords(text, ratio=0.25)) \n",
        "# gives you the keywords of the job description"
      ],
      "execution_count": 40,
      "outputs": [
        {
          "output_type": "stream",
          "name": "stdout",
          "text": [
            "Your resume matches about 32.54% of the job description.\n",
            "material\n",
            "aid learning\n",
            "technical content\n",
            "instructional\n",
            "reviewers video\n",
            "review\n",
            "graphic\n",
            "graphics\n",
            "visualize\n",
            "write\n",
            "theoretical\n",
            "strong\n",
            "correct\n",
            "interactions\n",
            "visual aids\n",
            "html\n",
            "feedback\n",
            "learner\n",
            "javascript\n",
            "basic projects\n",
            "communication skills\n",
            "understand\n",
            "structure\n"
          ]
        }
      ]
    },
    {
      "cell_type": "code",
      "metadata": {
        "id": "Y7ns5YtX66K4"
      },
      "source": [
        ""
      ],
      "execution_count": null,
      "outputs": []
    }
  ]
}